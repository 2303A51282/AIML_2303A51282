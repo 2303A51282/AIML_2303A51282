{
  "nbformat": 4,
  "nbformat_minor": 0,
  "metadata": {
    "colab": {
      "provenance": [],
      "authorship_tag": "ABX9TyOh/exL6dnW2+vMBXtMLWNt",
      "include_colab_link": true
    },
    "kernelspec": {
      "name": "python3",
      "display_name": "Python 3"
    },
    "language_info": {
      "name": "python"
    }
  },
  "cells": [
    {
      "cell_type": "markdown",
      "metadata": {
        "id": "view-in-github",
        "colab_type": "text"
      },
      "source": [
        "<a href=\"https://colab.research.google.com/github/2303A51282/AIML_2303A51282/blob/main/Lab_03.ipynb\" target=\"_parent\"><img src=\"https://colab.research.google.com/assets/colab-badge.svg\" alt=\"Open In Colab\"/></a>"
      ]
    },
    {
      "cell_type": "code",
      "execution_count": null,
      "metadata": {
        "id": "_4BL-1PbIzpu"
      },
      "outputs": [],
      "source": []
    },
    {
      "cell_type": "code",
      "source": [
        "from collections import namedtuple,Counter,defaultdict\n",
        "import random\n",
        "import math\n",
        "import functools\n",
        "cache=functools.lru_cache(10**6)"
      ],
      "metadata": {
        "id": "d2C8ISBXJAEU"
      },
      "execution_count": null,
      "outputs": []
    },
    {
      "cell_type": "markdown",
      "source": [
        "part 1-(a)"
      ],
      "metadata": {
        "id": "kEBwLKnNI-7r"
      }
    },
    {
      "cell_type": "code",
      "source": [
        "class Game:\n",
        " def actions(self, state):\n",
        "  \"\"\"Return a collection of the allowable moves from this state.\"\"\"\n",
        "  raise NotImplementedError\n",
        "  def result(self, state, move):\n",
        "    \"\"\" Return the state that results from making a move from a state.\"\"\"\n",
        "  raise NotImplementedError\n",
        "  def is_terminal(self, state):\n",
        "      \"\"\" Return True if this is a final state for the game.\"\"\"\n",
        "  return not self.actions(state)\n",
        "  def utility(self, state, player):\n",
        "\n",
        "    \"\"\"Return the value of this final state to player.\"\"\"\n",
        "  raise NotImplementedErro"
      ],
      "metadata": {
        "id": "TZThUHBLI0vO"
      },
      "execution_count": null,
      "outputs": []
    },
    {
      "cell_type": "markdown",
      "source": [
        "# define the game\n",
        "def play game(game, strategies: dict, verbose=False):\n",
        " Play a turn−taking game. strategies is a player name: function dict,\n",
        "  where function(state, game) is used to get the player s move.\n",
        "   state = game.initial\n",
        "    while not game.is terminal(state):\n",
        "     player = state.to move\n",
        "      move = strategies[player](game, state)\n",
        "       state = game.result(state, move)\n",
        "        if verbose:\n",
        "         print( Player , player, move: , move)\n",
        "          print(state)\n",
        "           return state"
      ],
      "metadata": {
        "id": "SqWYgfO6JV7K"
      }
    },
    {
      "cell_type": "code",
      "source": [
        "  def play_game(game, strategies: dict, verbose=False):\n",
        "    \"\"\" Play a turn−taking game. strategies is a player name: function dict,\n",
        "    where function(state, game) is used to get the player s move.\"\"\"\n",
        "    state = game.initial\n",
        "    while not game.is_terminal(state):\n",
        "     player = state.to_move\n",
        "    move = strategies[player](game, state)\n",
        "    state = game.result(state, move)\n",
        "    if verbose:\n",
        "     print( 'Player' , player, ' move: ', move)\n",
        "    print(state)\n",
        "    return state"
      ],
      "metadata": {
        "id": "ISQUFlovLR4O"
      },
      "execution_count": null,
      "outputs": []
    }
  ]
}